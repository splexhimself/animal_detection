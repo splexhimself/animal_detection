{
 "cells": [
  {
   "cell_type": "code",
   "execution_count": 3,
   "id": "cd77bc04",
   "metadata": {},
   "outputs": [
    {
     "name": "stdout",
     "output_type": "stream",
     "text": [
      "Requirement already satisfied: gradio in c:\\users\\xxhar\\miniconda3\\lib\\site-packages (3.27.0)\n",
      "Requirement already satisfied: pydub in c:\\users\\xxhar\\miniconda3\\lib\\site-packages (from gradio) (0.25.1)\n",
      "Requirement already satisfied: huggingface-hub>=0.13.0 in c:\\users\\xxhar\\miniconda3\\lib\\site-packages (from gradio) (0.13.4)\n",
      "Requirement already satisfied: websockets>=10.0 in c:\\users\\xxhar\\miniconda3\\lib\\site-packages (from gradio) (11.0.2)\n",
      "Requirement already satisfied: pillow in c:\\users\\xxhar\\miniconda3\\lib\\site-packages (from gradio) (10.1.0)\n",
      "Requirement already satisfied: fastapi in c:\\users\\xxhar\\miniconda3\\lib\\site-packages (from gradio) (0.95.1)\n",
      "Requirement already satisfied: matplotlib in c:\\users\\xxhar\\miniconda3\\lib\\site-packages (from gradio) (3.7.1)\n",
      "Requirement already satisfied: aiohttp in c:\\users\\xxhar\\miniconda3\\lib\\site-packages (from gradio) (3.8.4)\n",
      "Requirement already satisfied: jinja2 in c:\\users\\xxhar\\miniconda3\\lib\\site-packages (from gradio) (3.1.2)\n",
      "Requirement already satisfied: httpx in c:\\users\\xxhar\\miniconda3\\lib\\site-packages (from gradio) (0.24.0)\n",
      "Requirement already satisfied: semantic-version in c:\\users\\xxhar\\miniconda3\\lib\\site-packages (from gradio) (2.10.0)\n",
      "Requirement already satisfied: altair>=4.2.0 in c:\\users\\xxhar\\miniconda3\\lib\\site-packages (from gradio) (4.2.2)\n",
      "Requirement already satisfied: requests in c:\\users\\xxhar\\miniconda3\\lib\\site-packages (from gradio) (2.28.1)\n",
      "Requirement already satisfied: markdown-it-py[linkify]>=2.0.0 in c:\\users\\xxhar\\miniconda3\\lib\\site-packages (from gradio) (2.2.0)\n",
      "Requirement already satisfied: uvicorn in c:\\users\\xxhar\\miniconda3\\lib\\site-packages (from gradio) (0.21.1)\n",
      "Requirement already satisfied: pyyaml in c:\\users\\xxhar\\miniconda3\\lib\\site-packages (from gradio) (6.0)\n",
      "Requirement already satisfied: numpy in c:\\users\\xxhar\\miniconda3\\lib\\site-packages (from gradio) (1.24.2)\n",
      "Requirement already satisfied: orjson in c:\\users\\xxhar\\miniconda3\\lib\\site-packages (from gradio) (3.8.10)\n",
      "Requirement already satisfied: pandas in c:\\users\\xxhar\\miniconda3\\lib\\site-packages (from gradio) (2.0.0)\n",
      "Requirement already satisfied: typing-extensions in c:\\users\\xxhar\\miniconda3\\lib\\site-packages (from gradio) (4.5.0)\n",
      "Requirement already satisfied: pydantic in c:\\users\\xxhar\\miniconda3\\lib\\site-packages (from gradio) (1.10.7)\n",
      "Requirement already satisfied: python-multipart in c:\\users\\xxhar\\miniconda3\\lib\\site-packages (from gradio) (0.0.6)\n",
      "Requirement already satisfied: mdit-py-plugins<=0.3.3 in c:\\users\\xxhar\\miniconda3\\lib\\site-packages (from gradio) (0.3.3)\n",
      "Requirement already satisfied: aiofiles in c:\\users\\xxhar\\miniconda3\\lib\\site-packages (from gradio) (23.1.0)\n",
      "Requirement already satisfied: markupsafe in c:\\users\\xxhar\\miniconda3\\lib\\site-packages (from gradio) (2.1.2)\n",
      "Requirement already satisfied: ffmpy in c:\\users\\xxhar\\miniconda3\\lib\\site-packages (from gradio) (0.3.0)\n",
      "Requirement already satisfied: gradio-client>=0.1.3 in c:\\users\\xxhar\\miniconda3\\lib\\site-packages (from gradio) (0.1.3)\n",
      "Requirement already satisfied: toolz in c:\\users\\xxhar\\miniconda3\\lib\\site-packages (from altair>=4.2.0->gradio) (0.12.0)\n",
      "Requirement already satisfied: entrypoints in c:\\users\\xxhar\\miniconda3\\lib\\site-packages (from altair>=4.2.0->gradio) (0.4)\n",
      "Requirement already satisfied: jsonschema>=3.0 in c:\\users\\xxhar\\miniconda3\\lib\\site-packages (from altair>=4.2.0->gradio) (4.17.3)\n",
      "Requirement already satisfied: fsspec in c:\\users\\xxhar\\miniconda3\\lib\\site-packages (from gradio-client>=0.1.3->gradio) (2023.4.0)\n",
      "Requirement already satisfied: packaging in c:\\users\\xxhar\\miniconda3\\lib\\site-packages (from gradio-client>=0.1.3->gradio) (22.0)\n",
      "Requirement already satisfied: filelock in c:\\users\\xxhar\\miniconda3\\lib\\site-packages (from huggingface-hub>=0.13.0->gradio) (3.12.0)\n",
      "Requirement already satisfied: tqdm>=4.42.1 in c:\\users\\xxhar\\miniconda3\\lib\\site-packages (from huggingface-hub>=0.13.0->gradio) (4.64.1)\n",
      "Requirement already satisfied: mdurl~=0.1 in c:\\users\\xxhar\\miniconda3\\lib\\site-packages (from markdown-it-py[linkify]>=2.0.0->gradio) (0.1.2)\n",
      "Requirement already satisfied: linkify-it-py<3,>=1 in c:\\users\\xxhar\\miniconda3\\lib\\site-packages (from markdown-it-py[linkify]>=2.0.0->gradio) (2.0.0)\n",
      "Requirement already satisfied: pytz>=2020.1 in c:\\users\\xxhar\\miniconda3\\lib\\site-packages (from pandas->gradio) (2022.7)\n",
      "Requirement already satisfied: python-dateutil>=2.8.2 in c:\\users\\xxhar\\miniconda3\\lib\\site-packages (from pandas->gradio) (2.8.2)\n",
      "Requirement already satisfied: tzdata>=2022.1 in c:\\users\\xxhar\\miniconda3\\lib\\site-packages (from pandas->gradio) (2023.3)\n",
      "Requirement already satisfied: async-timeout<5.0,>=4.0.0a3 in c:\\users\\xxhar\\miniconda3\\lib\\site-packages (from aiohttp->gradio) (4.0.2)\n",
      "Requirement already satisfied: yarl<2.0,>=1.0 in c:\\users\\xxhar\\miniconda3\\lib\\site-packages (from aiohttp->gradio) (1.8.2)\n",
      "Requirement already satisfied: frozenlist>=1.1.1 in c:\\users\\xxhar\\miniconda3\\lib\\site-packages (from aiohttp->gradio) (1.3.3)\n",
      "Requirement already satisfied: attrs>=17.3.0 in c:\\users\\xxhar\\miniconda3\\lib\\site-packages (from aiohttp->gradio) (22.1.0)\n",
      "Requirement already satisfied: multidict<7.0,>=4.5 in c:\\users\\xxhar\\miniconda3\\lib\\site-packages (from aiohttp->gradio) (6.0.4)\n",
      "Requirement already satisfied: charset-normalizer<4.0,>=2.0 in c:\\users\\xxhar\\miniconda3\\lib\\site-packages (from aiohttp->gradio) (2.0.4)\n",
      "Requirement already satisfied: aiosignal>=1.1.2 in c:\\users\\xxhar\\miniconda3\\lib\\site-packages (from aiohttp->gradio) (1.3.1)\n",
      "Requirement already satisfied: starlette<0.27.0,>=0.26.1 in c:\\users\\xxhar\\miniconda3\\lib\\site-packages (from fastapi->gradio) (0.26.1)\n",
      "Requirement already satisfied: idna in c:\\users\\xxhar\\miniconda3\\lib\\site-packages (from httpx->gradio) (3.4)\n",
      "Requirement already satisfied: httpcore<0.18.0,>=0.15.0 in c:\\users\\xxhar\\miniconda3\\lib\\site-packages (from httpx->gradio) (0.17.0)\n",
      "Requirement already satisfied: certifi in c:\\users\\xxhar\\miniconda3\\lib\\site-packages (from httpx->gradio) (2022.12.7)\n",
      "Requirement already satisfied: sniffio in c:\\users\\xxhar\\miniconda3\\lib\\site-packages (from httpx->gradio) (1.3.0)\n",
      "Requirement already satisfied: contourpy>=1.0.1 in c:\\users\\xxhar\\miniconda3\\lib\\site-packages (from matplotlib->gradio) (1.0.7)\n",
      "Requirement already satisfied: fonttools>=4.22.0 in c:\\users\\xxhar\\miniconda3\\lib\\site-packages (from matplotlib->gradio) (4.39.3)\n",
      "Requirement already satisfied: kiwisolver>=1.0.1 in c:\\users\\xxhar\\miniconda3\\lib\\site-packages (from matplotlib->gradio) (1.4.4)\n",
      "Requirement already satisfied: cycler>=0.10 in c:\\users\\xxhar\\miniconda3\\lib\\site-packages (from matplotlib->gradio) (0.11.0)\n",
      "Requirement already satisfied: pyparsing>=2.3.1 in c:\\users\\xxhar\\miniconda3\\lib\\site-packages (from matplotlib->gradio) (3.0.9)\n",
      "Requirement already satisfied: urllib3<1.27,>=1.21.1 in c:\\users\\xxhar\\miniconda3\\lib\\site-packages (from requests->gradio) (1.26.13)\n",
      "Requirement already satisfied: h11>=0.8 in c:\\users\\xxhar\\miniconda3\\lib\\site-packages (from uvicorn->gradio) (0.14.0)\n",
      "Requirement already satisfied: click>=7.0 in c:\\users\\xxhar\\miniconda3\\lib\\site-packages (from uvicorn->gradio) (8.1.3)\n",
      "Requirement already satisfied: colorama in c:\\users\\xxhar\\miniconda3\\lib\\site-packages (from click>=7.0->uvicorn->gradio) (0.4.5)\n",
      "Requirement already satisfied: anyio<5.0,>=3.0 in c:\\users\\xxhar\\miniconda3\\lib\\site-packages (from httpcore<0.18.0,>=0.15.0->httpx->gradio) (3.6.2)\n",
      "Requirement already satisfied: pyrsistent!=0.17.0,!=0.17.1,!=0.17.2,>=0.14.0 in c:\\users\\xxhar\\miniconda3\\lib\\site-packages (from jsonschema>=3.0->altair>=4.2.0->gradio) (0.18.0)\n",
      "Requirement already satisfied: uc-micro-py in c:\\users\\xxhar\\miniconda3\\lib\\site-packages (from linkify-it-py<3,>=1->markdown-it-py[linkify]>=2.0.0->gradio) (1.0.1)\n",
      "Requirement already satisfied: six>=1.5 in c:\\users\\xxhar\\miniconda3\\lib\\site-packages (from python-dateutil>=2.8.2->pandas->gradio) (1.16.0)\n"
     ]
    }
   ],
   "source": [
    "!pip install gradio\n"
   ]
  },
  {
   "cell_type": "code",
   "execution_count": 4,
   "id": "0281f322",
   "metadata": {},
   "outputs": [],
   "source": [
    "import tensorflow as tf\n",
    "\n",
    "inception_net = tf.keras.applications.MobileNetV2()"
   ]
  },
  {
   "cell_type": "code",
   "execution_count": 6,
   "id": "d83d5253",
   "metadata": {},
   "outputs": [],
   "source": [
    "import requests\n",
    "\n",
    "# Download human-readable labels for ImageNet.\n",
    "response = requests.get(\"https://git.io/JJkYN\")\n",
    "labels = response.text.split(\"\\n\")\n",
    "\n",
    "def classify_image(inp):\n",
    "  inp = inp.reshape((-1, 224, 224, 3))\n",
    "  inp = tf.keras.applications.mobilenet_v2.preprocess_input(inp)\n",
    "  prediction = inception_net.predict(inp).flatten()\n",
    "  confidences = {labels[i]: float(prediction[i]) for i in range(1000)}\n",
    "  return confidences"
   ]
  },
  {
   "cell_type": "code",
   "execution_count": 7,
   "id": "bdb2ecde",
   "metadata": {},
   "outputs": [],
   "source": [
    "import matplotlib.pyplot as plt\n",
    "import numpy as np\n",
    "import os\n",
    "import PIL\n",
    "import tensorflow as tf\n",
    "\n",
    "from tensorflow import keras\n",
    "from tensorflow.keras import layers\n",
    "from tensorflow.keras.models import Sequential"
   ]
  },
  {
   "cell_type": "code",
   "execution_count": 1,
   "id": "02c20bfc",
   "metadata": {},
   "outputs": [],
   "source": [
    "import pathlib\n",
    "dataset_url = \"C:\\\\Users\\\\xxhar\\\\OneDrive\\\\Desktop\\\\archive.zip\\\\animals\\\\animals\"\n",
    "data_dir = tf.keras.utils.get_file('flower_photos', origin=dataset_url, untar=True)\n",
    "data_dir = pathlib.Path(data_dir)\n",
    "     "
   ]
  },
  {
   "cell_type": "code",
   "execution_count": 1,
   "id": "100115e2",
   "metadata": {},
   "outputs": [],
   "source": [
    "# Define a run function that sets up an image and label for classification using the gr.Interface.\n",
    "def run():\n",
    "  image = gr.Image(shape=(224, 224))\n",
    "  label = gr.Label(num_top_classes=4)\n",
    "  title = \"Image Classification Example\"\n",
    "\n",
    "  demo = gr.Interface(\n",
    "      fn=classify_image, inputs=image, outputs=label, interpretation=\"default\", title=title\n",
    "  )\n",
    "\n",
    "  demo.launch(server_name=\"0.0.0.0\", server_port=7860)"
   ]
  },
  {
   "cell_type": "code",
   "execution_count": null,
   "id": "6e0cf30c",
   "metadata": {},
   "outputs": [],
   "source": []
  },
  {
   "cell_type": "code",
   "execution_count": 2,
   "id": "61f7556a",
   "metadata": {},
   "outputs": [
    {
     "name": "stderr",
     "output_type": "stream",
     "text": [
      "C:\\Users\\xxhar\\miniconda3\\lib\\site-packages\\tqdm\\auto.py:22: TqdmWarning: IProgress not found. Please update jupyter and ipywidgets. See https://ipywidgets.readthedocs.io/en/stable/user_install.html\n",
      "  from .autonotebook import tqdm as notebook_tqdm\n",
      "C:\\Users\\xxhar\\miniconda3\\lib\\site-packages\\gradio\\inputs.py:257: UserWarning: Usage of gradio.inputs is deprecated, and will not be supported in the future, please import your component from gradio.components\n",
      "  warnings.warn(\n",
      "C:\\Users\\xxhar\\miniconda3\\lib\\site-packages\\gradio\\deprecation.py:40: UserWarning: `optional` parameter is deprecated, and it has no effect\n",
      "  warnings.warn(value)\n",
      "C:\\Users\\xxhar\\miniconda3\\lib\\site-packages\\gradio\\outputs.py:197: UserWarning: Usage of gradio.outputs is deprecated, and will not be supported in the future, please import your components from gradio.components\n",
      "  warnings.warn(\n",
      "C:\\Users\\xxhar\\miniconda3\\lib\\site-packages\\gradio\\deprecation.py:40: UserWarning: The 'type' parameter has been deprecated. Use the Number component instead.\n",
      "  warnings.warn(value)\n",
      "C:\\Users\\xxhar\\miniconda3\\lib\\site-packages\\gradio\\deprecation.py:40: UserWarning: `capture_session` parameter is deprecated, and it has no effect\n",
      "  warnings.warn(value)\n"
     ]
    },
    {
     "name": "stdout",
     "output_type": "stream",
     "text": [
      "Running on local URL:  http://127.0.0.1:7860\n",
      "\n",
      "To create a public link, set `share=True` in `launch()`.\n"
     ]
    },
    {
     "data": {
      "text/html": [
       "<div><iframe src=\"http://127.0.0.1:7860/\" width=\"100%\" height=\"500\" allow=\"autoplay; camera; microphone; clipboard-read; clipboard-write;\" frameborder=\"0\" allowfullscreen></iframe></div>"
      ],
      "text/plain": [
       "<IPython.core.display.HTML object>"
      ]
     },
     "metadata": {},
     "output_type": "display_data"
    },
    {
     "data": {
      "text/plain": []
     },
     "execution_count": 2,
     "metadata": {},
     "output_type": "execute_result"
    },
    {
     "name": "stderr",
     "output_type": "stream",
     "text": [
      "Traceback (most recent call last):\n",
      "  File \"C:\\Users\\xxhar\\miniconda3\\lib\\site-packages\\gradio\\routes.py\", line 401, in run_predict\n",
      "    output = await app.get_blocks().process_api(\n",
      "  File \"C:\\Users\\xxhar\\miniconda3\\lib\\site-packages\\gradio\\blocks.py\", line 1302, in process_api\n",
      "    result = await self.call_function(\n",
      "  File \"C:\\Users\\xxhar\\miniconda3\\lib\\site-packages\\gradio\\blocks.py\", line 1025, in call_function\n",
      "    prediction = await anyio.to_thread.run_sync(\n",
      "  File \"C:\\Users\\xxhar\\miniconda3\\lib\\site-packages\\anyio\\to_thread.py\", line 28, in run_sync\n",
      "    return await get_asynclib().run_sync_in_worker_thread(func, *args, cancellable=cancellable,\n",
      "  File \"C:\\Users\\xxhar\\miniconda3\\lib\\site-packages\\anyio\\_backends\\_asyncio.py\", line 818, in run_sync_in_worker_thread\n",
      "    return await future\n",
      "  File \"C:\\Users\\xxhar\\miniconda3\\lib\\site-packages\\anyio\\_backends\\_asyncio.py\", line 754, in run\n",
      "    result = context.run(func, *args)\n",
      "  File \"C:\\Users\\xxhar\\AppData\\Local\\Temp\\ipykernel_24884\\3643052509.py\", line 10, in classify_image\n",
      "    inp=inp.reshape((-1,299,299,3))\n",
      "AttributeError: 'NoneType' object has no attribute 'reshape'\n",
      "Traceback (most recent call last):\n",
      "  File \"C:\\Users\\xxhar\\miniconda3\\lib\\site-packages\\gradio\\routes.py\", line 401, in run_predict\n",
      "    output = await app.get_blocks().process_api(\n",
      "  File \"C:\\Users\\xxhar\\miniconda3\\lib\\site-packages\\gradio\\blocks.py\", line 1302, in process_api\n",
      "    result = await self.call_function(\n",
      "  File \"C:\\Users\\xxhar\\miniconda3\\lib\\site-packages\\gradio\\blocks.py\", line 1025, in call_function\n",
      "    prediction = await anyio.to_thread.run_sync(\n",
      "  File \"C:\\Users\\xxhar\\miniconda3\\lib\\site-packages\\anyio\\to_thread.py\", line 28, in run_sync\n",
      "    return await get_asynclib().run_sync_in_worker_thread(func, *args, cancellable=cancellable,\n",
      "  File \"C:\\Users\\xxhar\\miniconda3\\lib\\site-packages\\anyio\\_backends\\_asyncio.py\", line 818, in run_sync_in_worker_thread\n",
      "    return await future\n",
      "  File \"C:\\Users\\xxhar\\miniconda3\\lib\\site-packages\\anyio\\_backends\\_asyncio.py\", line 754, in run\n",
      "    result = context.run(func, *args)\n",
      "  File \"C:\\Users\\xxhar\\AppData\\Local\\Temp\\ipykernel_24884\\3643052509.py\", line 10, in classify_image\n",
      "    inp=inp.reshape((-1,299,299,3))\n",
      "AttributeError: 'NoneType' object has no attribute 'reshape'\n"
     ]
    },
    {
     "name": "stdout",
     "output_type": "stream",
     "text": [
      "1/1 [==============================] - 5s 5s/step\n"
     ]
    }
   ],
   "source": [
    "import gradio as gr\n",
    "import tensorflow as tf\n",
    "import numpy as np\n",
    "import requests\n",
    "inception_net=tf.keras.applications.InceptionV3()\n",
    "\n",
    "response = requests.get(\"https://git.io/JJkYN\")\n",
    "labels=response.text.split(\"\\n\")\n",
    "def classify_image(inp):\n",
    "    inp=inp.reshape((-1,299,299,3))\n",
    "    inp=tf.keras.applications.inception_v3.preprocess_input(inp)\n",
    "    prediction=inception_net.predict(inp).flatten()\n",
    "    return {labels[i]: float(prediction[i]) for i in range(1000)}\n",
    "image=gr.inputs.Image(shape=(299,299))\n",
    "label=gr.outputs.Label(num_top_classes=3)\n",
    "gr.Interface(fn=classify_image,inputs=image,outputs=label,capture_session=True).launch()"
   ]
  },
  {
   "cell_type": "code",
   "execution_count": null,
   "id": "38898118",
   "metadata": {},
   "outputs": [],
   "source": []
  },
  {
   "cell_type": "code",
   "execution_count": null,
   "id": "3e744a5a",
   "metadata": {},
   "outputs": [],
   "source": []
  }
 ],
 "metadata": {
  "kernelspec": {
   "display_name": "Python 3 (ipykernel)",
   "language": "python",
   "name": "python3"
  },
  "language_info": {
   "codemirror_mode": {
    "name": "ipython",
    "version": 3
   },
   "file_extension": ".py",
   "mimetype": "text/x-python",
   "name": "python",
   "nbconvert_exporter": "python",
   "pygments_lexer": "ipython3",
   "version": "3.10.8"
  }
 },
 "nbformat": 4,
 "nbformat_minor": 5
}
